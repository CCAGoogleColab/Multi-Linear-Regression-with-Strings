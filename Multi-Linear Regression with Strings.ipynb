import pandas as pd
import numpy as np
import matplotlib.pyplot as plt
from sklearn.linear_model import LinearRegression
from sklearn.model_selection import train_test_split 
%reload_ext google.colab.data_table
# Code to read csv file into Colaboratory:
!pip install -U -q PyDrive
from pydrive.auth import GoogleAuth
from pydrive.drive import GoogleDrive
from google.colab import auth
from oauth2client.client import GoogleCredentials
# Authenticate and create the PyDrive client.
auth.authenticate_user()
gauth = GoogleAuth()
gauth.credentials = GoogleCredentials.get_application_default()
drive = GoogleDrive(gauth)
link = 'https://drive.google.com/open?id=15qJFX87eHO7OWJyjJYIli7VejqW-aGvD' # The shareable link
fluff, id = link.split('=')
# Verify that you have everything after '='
downloaded = drive.CreateFile({'id':id}) 
downloaded.GetContentFile('insurance2.csv')  
df3 = pd.read_csv('insurance2.csv')
print(df3)
# Dataset is now stored in a Pandas Dataframe
Smoker = {'yes': 1,'no': 0} 
df3.smoker = [Smoker[item] for item in df3.smoker]
print(df3)
#https://datatofish.com/multiple-linear-regression-python/
x = df3.iloc[:, :-1].values
y = df3.iloc[:, 2].values

regression_model = LinearRegression()
regression_model.fit(x, y)
print('Intercept: \n', regression_model.intercept_)
print('Coefficients: \n', regression_model.coef_)

new_age = 40
new_bmi = 40
new_smoker = 1
print ('Insurance: \n', regression_model.predict([[new_bmi, new_smoker]]))
from array import array


from mpl_toolkits import mplot3d
%matplotlib inline
import numpy as np
import matplotlib.pyplot as plt
fig = plt.figure()
ax = plt.axes(projection='3d')
zline =  np.array([0,0,regression_model.intercept_])
xline =  np.array([1,0,regression_model.coef_.item(0)])
yline = np.array([0,1,regression_model.coef_.item(1)])
ax.plot3D(xline, yline, zline, 'gray')
plt.ylim(0,1)
plt.xlim(0,max(df3.bmi))


zdata = df3.charges
xdata = df3.bmi
ydata = df3.smoker
ax.scatter3D(xdata, ydata, zdata, c=zdata, cmap='Greens');
